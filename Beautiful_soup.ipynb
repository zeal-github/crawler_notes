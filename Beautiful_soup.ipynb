{
 "nbformat": 4,
 "nbformat_minor": 2,
 "metadata": {
  "language_info": {
   "name": "python",
   "codemirror_mode": {
    "name": "ipython",
    "version": 3
   },
   "version": "3.7.0-final"
  },
  "orig_nbformat": 2,
  "file_extension": ".py",
  "mimetype": "text/x-python",
  "name": "python",
  "npconvert_exporter": "python",
  "pygments_lexer": "ipython3",
  "version": 3,
  "kernelspec": {
   "name": "python3",
   "display_name": "Python 3"
  }
 },
 "cells": [
  {
   "cell_type": "markdown",
   "metadata": {},
   "source": [
    "# 使用Beautiful Soup\n",
    "Beautiful Soup就是Python的一个HTML或XML的解析库，可以用它来方便地从网页中提取数据\n",
    "\n",
    "Beautiful Soup自动将输入文档转换为Unicode编码，输出文档转换为UTF-8编码。你不需要考虑编码方式，除非文档没有指定一个编码方式，这时你仅仅需要说明一下原始编码方式就可以了\n",
    "\n",
    "Beautiful Soup在解析的时候依赖解析器，比如Python标准库中的HTML解析器`html.parser`;lxml解析器<br>\n",
    "lxml解析器速度快且能解析html和xml，推荐使用"
   ]
  },
  {
   "cell_type": "code",
   "execution_count": 1,
   "metadata": {},
   "outputs": [
    {
     "output_type": "stream",
     "name": "stdout",
     "text": "Hello\n"
    }
   ],
   "source": [
    "from bs4 import BeautifulSoup\n",
    "soup = BeautifulSoup('<p>Hello</p>', 'lxml') # 第二个参数'lxml'表示使用lxml的html解析器+\n",
    "print(soup.p.string)"
   ]
  },
  {
   "cell_type": "code",
   "execution_count": 9,
   "metadata": {},
   "outputs": [
    {
     "output_type": "stream",
     "name": "stdout",
     "text": "<html>\n <head>\n  <title>\n   The Dormouse's story\n  </title>\n </head>\n <body>\n  <p class=\"title\" name=\"dromouse\">\n   <b>\n    The Dormouse's story\n   </b>\n  </p>\n  <p class=\"story\" name=\"the secod p\">\n   Once upon a time there were three little sisters; and their names were\n   <a class=\"sister\" href=\"http://example.com/elsie\" id=\"link1\">\n    <!-- Elsie -->\n   </a>\n   ,\n   <a class=\"sister\" href=\"http://example.com/lacie\" id=\"link2\">\n    Lacie\n   </a>\n   and\n   <a class=\"sister\" href=\"http://example.com/tillie\" id=\"link3\">\n    Tillie\n   </a>\n   ;\nand they lived at the bottom of a well.\n  </p>\n  <p class=\"story\">\n   ...\n  </p>\n </body>\n</html>\n\n\nThe Dormouse's story\n\n\nThe Dormouse's story\n\n\n Elsie \n"
    }
   ],
   "source": [
    "html = \"\"\"\n",
    "<html><head><title>The Dormouse's story</title></head>\n",
    "<body>\n",
    "<p class=\"title\" name=\"dromouse\"><b>The Dormouse's story</b></p>\n",
    "<p class=\"story\" name=\"the secod p\">Once upon a time there were three little sisters; and their names were\n",
    "<a href=\"http://example.com/elsie\" class=\"sister\" id=\"link1\"><!-- Elsie --></a>,\n",
    "<a href=\"http://example.com/lacie\" class=\"sister\" id=\"link2\">Lacie</a> and\n",
    "<a href=\"http://example.com/tillie\" class=\"sister\" id=\"link3\">Tillie</a>;\n",
    "and they lived at the bottom of a well.</p>\n",
    "<p class=\"story\">...</p>\n",
    "\"\"\" # 注意这里的html和body节点都没有关闭\n",
    "soup = BeautifulSoup(html, 'lxml')\n",
    "print(soup.prettify()) # 以标准的缩进格式输出html文档\n",
    "print('\\n')\n",
    "print(soup.head.string) # 输出head节点里面的文本\n",
    "print('\\n')\n",
    "print(soup.title.string) # 输出title节点的文本\n",
    "print('\\n')\n",
    "print(soup.a.string) # 这种方式只能选择到第一个a节点的文本"
   ]
  },
  {
   "cell_type": "markdown",
   "metadata": {},
   "source": [
    "## 选择元素\n",
    "\n"
   ]
  },
  {
   "cell_type": "code",
   "execution_count": 7,
   "metadata": {},
   "outputs": [
    {
     "output_type": "stream",
     "name": "stdout",
     "text": "<title>The Dormouse's story</title> \n\n<class 'bs4.element.Tag'> \n\nThe Dormouse's story \n\n<head><title>The Dormouse's story</title></head> \n\n<p class=\"title\" name=\"dromouse\"><b>The Dormouse's story</b></p> \n\n"
    }
   ],
   "source": [
    "print(soup.title, '\\n') # 直接输出节点的内容\n",
    "print(type(soup.title), '\\n') # bs4.element.Tag类型，Beautiful Soup里面重要的数据结构，经过选择器选择后返回的都是这种Tag类型\n",
    "print(soup.title.string, '\\n') # bs.element.Tag类的string属性输出节点的文本内容\n",
    "print(soup.head, '\\n')\n",
    "print(soup.p, '\\n') # 按照这种方式只能选择第一个匹配到的节点"
   ]
  },
  {
   "cell_type": "markdown",
   "metadata": {},
   "source": [
    "## 提取信息\n",
    "bs.element.Tag类型有多种属性可以用来获取节点的信息\n",
    "+ `name` 属性可以得到节点的名称\n",
    "+ `attrs` 属性可以获取节点所有属性，返回的是一个字典\n",
    "+ `attrs['name']` 获取属性名为name的属性值"
   ]
  },
  {
   "cell_type": "code",
   "execution_count": 11,
   "metadata": {},
   "outputs": [
    {
     "output_type": "stream",
     "name": "stdout",
     "text": "title \n\n{'class': ['title'], 'name': 'dromouse'}\ndromouse\n"
    }
   ],
   "source": [
    "print(soup.title.name, '\\n') # 获取节点的名称\n",
    "print(soup.p.attrs) # 获取第一个p节点的所有属性值\n",
    "print(soup.p.attrs['name']) # 获取第一个p节点的name属性值\n",
    "# 注意有些属性可能有多个值，属性值是列表。比如这里的class属性，一个节点元素可能有多个class"
   ]
  },
  {
   "cell_type": "markdown",
   "metadata": {},
   "source": [
    "## 嵌套选择\n",
    "每一个返回结果都是bs4.element.Tag类型，它同样可以继续调用节点进行下一步的选择。比如，我们获取了head节点元素，我们可以继续调用head来选取其内部的head节点元素"
   ]
  },
  {
   "cell_type": "code",
   "execution_count": 12,
   "metadata": {},
   "outputs": [
    {
     "output_type": "stream",
     "name": "stdout",
     "text": "<title>The Dormouse's story</title> \n\n<class 'bs4.element.Tag'> \n\nThe Dormouse's story\n"
    }
   ],
   "source": [
    "print(soup.head.title, '\\n') # 返回head节点里面的title节点\n",
    "print(type(soup.head.title), '\\n') # 依旧是bs4.element.Tag类型\n",
    "print(soup.head.title.string)"
   ]
  },
  {
   "cell_type": "markdown",
   "metadata": {},
   "source": [
    "## 关联选择\n",
    "选择指定节点的子节点、父节点、兄弟节点等\n",
    "+ 子节点和子孙节点: `contents` 属性, 返回所有直接子节点以及本节点的文本，以列表形式返回\n",
    "+ `children` 属性也可以返回所有直接子节点和本节点的文本，以生成器的形式返回\n",
    "+ `descendants` 属性可以返回所有子孙节点，节点内的文本也相当于一个节点。结果以生成器形式返回\n",
    "+ `parent` 属性可以提取某个节点的直接父节点\n",
    "+ `parents` 属性可以提取某个节点的所有祖先节点\n",
    "+ `previous_sibling` 和 `next_sibling` 可以提取上一个，下一个兄弟节点\n",
    "+ `previous_siblings` 和 `next_siblings` 可以提取所有之前的，之后的兄弟节点"
   ]
  },
  {
   "cell_type": "code",
   "execution_count": 22,
   "metadata": {},
   "outputs": [
    {
     "output_type": "stream",
     "name": "stdout",
     "text": "['\\n            Once upon a time there were three little sisters; and their names were\\n            ', <a class=\"sister\" href=\"http://example.com/elsie\" id=\"link1\">\n<span>Elsie</span>\n</a>, '\\n', <a class=\"sister\" href=\"http://example.com/lacie\" id=\"link2\">Lacie</a>, ' \\n            and\\n            ', <a class=\"sister\" href=\"http://example.com/tillie\" id=\"link3\">Tillie</a>, '\\n            and they lived at the bottom of a well.\\n        '] \n\n<class 'bs4.element.NavigableString'>\n\n            Once upon a time there were three little sisters; and their names were\n            \n<class 'bs4.element.Tag'>\n<a class=\"sister\" href=\"http://example.com/elsie\" id=\"link1\">\n <span>\n  Elsie\n </span>\n</a>\n\n<class 'bs4.element.NavigableString'>\n\n\n<class 'bs4.element.Tag'>\n<a class=\"sister\" href=\"http://example.com/lacie\" id=\"link2\">\n Lacie\n</a>\n\n<class 'bs4.element.NavigableString'>\n \n            and\n            \n<class 'bs4.element.Tag'>\n<a class=\"sister\" href=\"http://example.com/tillie\" id=\"link3\">\n Tillie\n</a>\n\n<class 'bs4.element.NavigableString'>\n\n            and they lived at the bottom of a well.\n        \n"
    }
   ],
   "source": [
    "import bs4\n",
    "html = \"\"\"\n",
    "<html>\n",
    "    <head>\n",
    "        <title>The Dormouse's story</title>\n",
    "    </head>\n",
    "    <body>\n",
    "        <p class=\"story\">\n",
    "            Once upon a time there were three little sisters; and their names were\n",
    "            <a href=\"http://example.com/elsie\" class=\"sister\" id=\"link1\">\n",
    "                <span>Elsie</span>\n",
    "            </a>\n",
    "            <a href=\"http://example.com/lacie\" class=\"sister\" id=\"link2\">Lacie</a> \n",
    "            and\n",
    "            <a href=\"http://example.com/tillie\" class=\"sister\" id=\"link3\">Tillie</a>\n",
    "            and they lived at the bottom of a well.\n",
    "        </p>\n",
    "        <p class=\"story\">...</p>\n",
    "\"\"\"\n",
    "soup = BeautifulSoup(html, 'lxml')\n",
    "print(soup.p.contents, '\\n') # 把p节点里面的文本及其所有直接子节点列出来\n",
    "# print(soup.p.contents[1].prettify())\n",
    "for con in soup.p.contents:\n",
    "    if isinstance(con, bs4.element.NavigableString):\n",
    "        print(type(con))\n",
    "        print(con)\n",
    "    else:\n",
    "        print(type(con))\n",
    "        print(con.prettify())"
   ]
  },
  {
   "cell_type": "code",
   "execution_count": 24,
   "metadata": {},
   "outputs": [
    {
     "output_type": "stream",
     "name": "stdout",
     "text": "<list_iterator object at 0x00000237845C2358> \n\n0 \n            Once upon a time there were three little sisters; and their names were\n            \n1 <a class=\"sister\" href=\"http://example.com/elsie\" id=\"link1\">\n<span>Elsie</span>\n</a>\n2 \n\n3 <a class=\"sister\" href=\"http://example.com/lacie\" id=\"link2\">Lacie</a>\n4  \n            and\n            \n5 <a class=\"sister\" href=\"http://example.com/tillie\" id=\"link3\">Tillie</a>\n6 \n            and they lived at the bottom of a well.\n        \n"
    }
   ],
   "source": [
    "print(soup.p.children, '\\n')\n",
    "for i, child in enumerate(soup.p.children):\n",
    "    print(i, child)"
   ]
  },
  {
   "cell_type": "code",
   "execution_count": 25,
   "metadata": {},
   "outputs": [
    {
     "output_type": "stream",
     "name": "stdout",
     "text": "<p class=\"story\">\n            Once upon a time there were three little sisters; and their names were\n            <a class=\"sister\" href=\"http://example.com/elsie\" id=\"link1\">\n<span>Elsie</span>\n</a>\n<a class=\"sister\" href=\"http://example.com/lacie\" id=\"link2\">Lacie</a> \n            and\n            <a class=\"sister\" href=\"http://example.com/tillie\" id=\"link3\">Tillie</a>\n            and they lived at the bottom of a well.\n        </p>\n"
    }
   ],
   "source": [
    "# 选择节点的父节点\n",
    "print(soup.a.parent) # 选择第一个a节点的父节点\n",
    "\n",
    "print(soup.a.parents) # 选择第一个a节点的所有子孙节点"
   ]
  },
  {
   "cell_type": "markdown",
   "metadata": {},
   "source": [
    "## 方法选择器 \n",
    "+ find_all(name , attrs , recursive , text , **kwargs) 即查询所有符合条件的元素， 返回列表类型\n",
    "    + `name` : 查询特定名称的节点\n",
    "    + `attrs` ：传入字典，查找特定属性值的节点\n",
    "    + `text` : 用来匹配节点的文本，传入的形式可以是字符串，也可以是正则表达式对象：re.compile('regular expression')\n",
    "+ find(name , attrs , recursive , text , **kwargs) 返回第一个符合条件的节点\n",
    "+ find_parents() \\ find_parents()\n",
    "+ find_next_siblings() \\ find_next_sibling()\n",
    "+ find_previous_siblings() \\ find_next_sibling()\n",
    "+ find_all_next() \\ find_next() \n",
    "+ find_all_previous() \\ find_previous()\n"
   ]
  }
 ]
}