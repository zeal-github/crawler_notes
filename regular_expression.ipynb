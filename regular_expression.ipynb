{
 "nbformat": 4,
 "nbformat_minor": 2,
 "metadata": {
  "language_info": {
   "name": "python",
   "codemirror_mode": {
    "name": "ipython",
    "version": 3
   },
   "version": "3.7.0-final"
  },
  "orig_nbformat": 2,
  "file_extension": ".py",
  "mimetype": "text/x-python",
  "name": "python",
  "npconvert_exporter": "python",
  "pygments_lexer": "ipython3",
  "version": 3,
  "kernelspec": {
   "name": "python3",
   "display_name": "Python 3"
  }
 },
 "cells": [
  {
   "cell_type": "markdown",
   "metadata": {},
   "source": [
    "# 正则表达式\n",
    "+ 开源中国正则表达式测试工具，包含各种正则表达式预置实例：http://tool.oschina.net/regex/\n",
    "+ python的`re`库提供了正则表达式的实现"
   ]
  },
  {
   "cell_type": "markdown",
   "metadata": {},
   "source": [
    "## re.match \n",
    "match()方法会尝试从字符串的起始位置匹配正则表达式，如果匹配，就返回匹配成功的结果；如果不匹配，就返回None。"
   ]
  },
  {
   "cell_type": "code",
   "execution_count": 5,
   "metadata": {},
   "outputs": [
    {
     "output_type": "stream",
     "name": "stdout",
     "text": "47\n<re.Match object; span=(0, 31), match='Hello 123 4567 89999 World_This'>\nHello 123 4567 89999 World_This\n(0, 31)\n"
    }
   ],
   "source": [
    "import re \n",
    "content = 'Hello 123 4567 89999 World_This is a Regex Demo'\n",
    "print(len(content))\n",
    "result = re.match('^Hello\\s\\d\\d\\d\\s\\d+\\s\\d{5}\\s\\w{10}', content)\n",
    "print(result) # 打印结果是·SRE_Match·对象，证明成功匹配\n",
    "print(result.group()) # 返回的对象有两个方法，.group()输出匹配的内容\n",
    "print(result.span()) # .span()方法输出匹配的范围"
   ]
  },
  {
   "cell_type": "markdown",
   "metadata": {},
   "source": [
    "## 详解result = re.match('^Hello\\s\\d\\d\\d\\s\\d{4}\\s\\w{10}', content)\n",
    "+ `^`用来匹配字符串开头，也就是以`Hellp`开头\n",
    "+ `\\s`匹配任意空白字符，等价于`[\\t\\n\\r\\f]`\n",
    "+ `\\d`匹配数字，3个`\\d`匹配3个数字（在这里匹配字符串里的`123`\n",
    "+ `+`匹配一个或以上多个表达式，所以第二串数字用`\\d+`匹配。（放置在匹配规则后面）\n",
    "+ 第二次匹配数字，匹配4个数字，使用`\\d{4}`;`{4}`表示匹配前面的规则4次\n",
    "+ `\\w`匹配字母、数字及下划线"
   ]
  },
  {
   "cell_type": "markdown",
   "metadata": {},
   "source": [
    "## 匹配目标——从字符串中提取一部分内容\n",
    "使用`()`括号将想提取的子字符串括起来，使用`()`标记的子表达式会依次对应每一个分组，调用`group`方法传入分组的索引即可获取提取的结果"
   ]
  },
  {
   "cell_type": "code",
   "execution_count": 2,
   "metadata": {},
   "outputs": [
    {
     "output_type": "stream",
     "name": "stdout",
     "text": "<re.Match object; span=(0, 19), match='Hello 1234567 World'>\nHello 1234567 World\n1234567\n(0, 19)\n"
    }
   ],
   "source": [
    "import re\n",
    " \n",
    "content = 'Hello 1234567 World_This is a Regex Demo'\n",
    "result = re.match('^Hello\\s(\\d+)\\sWorld', content)\n",
    "print(result)\n",
    "print(result.group())\n",
    "print(result.group(1))\n",
    "print(result.span())\n",
    ""
   ]
  },
  {
   "cell_type": "markdown",
   "metadata": {},
   "source": [
    "## 通用匹配\n",
    "`.*`（点星）可以匹配任意数量的任意字符。其中`.`（点）可以匹配任意字符（除换行符），`*`（星）代表匹配前面的字符无限次，所以它们组合在一起就可以匹配任意字符"
   ]
  },
  {
   "cell_type": "code",
   "execution_count": 3,
   "metadata": {},
   "outputs": [
    {
     "output_type": "stream",
     "name": "stdout",
     "text": "<re.Match object; span=(0, 41), match='Hello 123 4567 World_This is a Regex Demo'>\nHello 123 4567 World_This is a Regex Demo\n(0, 41)\n"
    }
   ],
   "source": [
    "import re\n",
    " \n",
    "content = 'Hello 123 4567 World_This is a Regex Demo'\n",
    "result = re.match('^Hello.*Demo$', content)\n",
    "print(result)\n",
    "print(result.group())\n",
    "print(result.span())"
   ]
  },
  {
   "cell_type": "markdown",
   "metadata": {},
   "source": [
    "## 贪婪匹配与非贪婪匹配\n",
    "贪婪匹配是尽可能匹配多的字符，非贪婪匹配就是尽可能匹配少的字符\n",
    "比如`.*`会匹配尽可能多的字符串，但是`.*?`会匹配京可能少的字符串（让其它匹配规则去匹配）\n",
    "+ **?** 的作用是：匹配0个或1个前面的正则表达式定义的片段，非贪婪方式\n",
    "在做匹配的时候，字符串中间尽量使用非贪婪方式"
   ]
  },
  {
   "cell_type": "code",
   "execution_count": 6,
   "metadata": {},
   "outputs": [
    {
     "output_type": "stream",
     "name": "stdout",
     "text": "贪婪匹配的结果 7\n非贪婪匹配的结果 1234567\n"
    }
   ],
   "source": [
    "import re\n",
    " \n",
    "content = 'Hello 1234567 World_This is a Regex Demo'\n",
    "result = re.match('^He.*(\\d+).*Demo$', content)\n",
    "print('贪婪匹配的结果', result.group(1)) # 输出 7 ,因为.*贪婪匹配了尽量多的字符串\n",
    "\n",
    "result = re.match('^He.*?(\\d+).*Demo$', content)\n",
    "print('非贪婪匹配的结果', result.group(1)) # 输出1234567，使用了非贪婪匹配"
   ]
  },
  {
   "cell_type": "code",
   "execution_count": null,
   "metadata": {},
   "outputs": [],
   "source": [
    "## 修饰符\n",
    "python的`re`库，正则表达式匹配可以包含一些可选标志修饰符来控制匹配的模式。修饰符被指定为一个可选的标志\n",
    "比如`.`符号匹配除了换行符之外的所有符号，但是如果在调用`match()`函数的时候在第三个参数位传入`re.S`修饰符就可以匹配换行符。\n",
    "+ re.I 是匹配对大小写不敏感\n",
    "+ re.S 使得`.`可以匹配换行符"
   ]
  },
  {
   "cell_type": "code",
   "execution_count": 7,
   "metadata": {},
   "outputs": [
    {
     "output_type": "stream",
     "name": "stdout",
     "text": "None\n<re.Match object; span=(0, 40), match='Hello 1234567 World_This\\nis a Regex Demo'>\n"
    }
   ],
   "source": [
    "import re\n",
    " \n",
    "content = '''Hello 1234567 World_This\n",
    "is a Regex Demo\n",
    "'''\n",
    "result = re.match('^He.*?(\\d+).*?Demo$', content)\n",
    "print(result) # None, 匹配错误，因为加了换行符，所以`.`无法匹配到，返回None\n",
    "\n",
    "\t\n",
    "result = re.match('^He.*?(\\d+).*?Demo$', content, re.S)\n",
    "print(result) # 正确匹配"
   ]
  },
  {
   "cell_type": "code",
   "execution_count": null,
   "metadata": {},
   "outputs": [],
   "source": [
    "## 转义匹配\n",
    "当遇到用于正则匹配模式的特殊字符时，在前面加反斜线转义一下即可。例如`.`就可以用`\\.`"
   ]
  },
  {
   "cell_type": "code",
   "execution_count": 11,
   "metadata": {},
   "outputs": [
    {
     "output_type": "stream",
     "name": "stdout",
     "text": "<re.Match object; span=(0, 17), match='(百度)www.baidu.com'>\n"
    }
   ],
   "source": [
    "import re\n",
    " \n",
    "content = '(百度)www.baidu.com'\n",
    "result = re.match('\\(百度\\)www\\.baidu\\.com', content)\n",
    "print(result)"
   ]
  },
  {
   "cell_type": "code",
   "execution_count": null,
   "metadata": {},
   "outputs": [],
   "source": [
    "## search()\n",
    "match()方法是从字符串的开头开始匹配的，一旦开头不匹配，那么整个匹配就失败了。"
   ]
  },
  {
   "cell_type": "code",
   "execution_count": null,
   "metadata": {},
   "outputs": [],
   "source": [
    "\n",
    "import re\n",
    "\n",
    "content = 'Extra stings Hello 1234567 World_This is a Regex Demo Extra stings'\n",
    "result = re.match('Hello.*?(\\d+).*?Demo', content)\n",
    "print(result) # None"
   ]
  },
  {
   "cell_type": "markdown",
   "metadata": {},
   "source": [
    "## 转义匹配\n",
    "如果要匹配特殊字符是，在前面加反斜线转义一下"
   ]
  },
  {
   "cell_type": "code",
   "execution_count": 1,
   "metadata": {},
   "outputs": [
    {
     "output_type": "stream",
     "name": "stdout",
     "text": "<re.Match object; span=(0, 17), match='(百度)www.baidu.com'>\n"
    }
   ],
   "source": [
    "import re\n",
    " \n",
    "content = '(百度)www.baidu.com'\n",
    "result = re.match('\\(百度\\)www\\.baidu\\.com', content)\n",
    "print(result)"
   ]
  },
  {
   "cell_type": "markdown",
   "metadata": {},
   "source": [
    "## search & findall()\n",
    "`match()`方法是从字符串的开头开始匹配，一旦开头不匹配，那么整个匹配就失败\n",
    "\n",
    "`search()`方法会扫描整个字符串，然后返回`第一个`成功匹配的结果。如果搜索完了还没有找到，就返回None\n",
    "\n",
    "`findall()`方法会扫描整个字符串，返回`所有`的匹配结果，返回列表类型"
   ]
  },
  {
   "cell_type": "code",
   "execution_count": 4,
   "metadata": {},
   "outputs": [],
   "source": [
    "html = '''<div id=\"songs-list\">\n",
    "    <h2 class=\"title\">经典老歌</h2>\n",
    "    <p class=\"introduction\">\n",
    "        经典老歌列表\n",
    "    </p>\n",
    "    <ul id=\"list\" class=\"list-group\">\n",
    "        <li data-view=\"2\">一路上有你</li>\n",
    "        <li data-view=\"7\">\n",
    "            <a href=\"/2.mp3\" singer=\"任贤齐\">沧海一声笑</a>\n",
    "        </li>\n",
    "        <li data-view=\"4\" class=\"active\">\n",
    "            <a href=\"/3.mp3\" singer=\"齐秦\">往事随风</a>\n",
    "        </li>\n",
    "        <li data-view=\"6\"><a href=\"/4.mp3\" singer=\"beyond\">光辉岁月</a></li>\n",
    "        <li data-view=\"5\"><a href=\"/5.mp3\" singer=\"陈慧琳\">记事本</a></li>\n",
    "        <li data-view=\"5\">\n",
    "            <a href=\"/6.mp3\" singer=\"邓丽君\"><i class=\"fa fa-user\"></i>但愿人长久</a>\n",
    "        </li>\n",
    "    </ul>\n",
    "</div>'''"
   ]
  },
  {
   "cell_type": "code",
   "execution_count": 5,
   "metadata": {},
   "outputs": [
    {
     "output_type": "stream",
     "name": "stdout",
     "text": "[('/2.mp3', '任贤齐', '沧海一声笑'), ('/3.mp3', '齐秦', '往事随风'), ('/4.mp3', 'beyond', '光辉岁月'), ('/5.mp3', '陈慧琳', '记事本'), ('/6.mp3', '邓丽君', '<i class=\"fa fa-user\"></i>但愿人长久')]\n<class 'list'>\n('/2.mp3', '任贤齐', '沧海一声笑')\n/2.mp3 任贤齐 沧海一声笑\n('/3.mp3', '齐秦', '往事随风')\n/3.mp3 齐秦 往事随风\n('/4.mp3', 'beyond', '光辉岁月')\n/4.mp3 beyond 光辉岁月\n('/5.mp3', '陈慧琳', '记事本')\n/5.mp3 陈慧琳 记事本\n('/6.mp3', '邓丽君', '<i class=\"fa fa-user\"></i>但愿人长久')\n/6.mp3 邓丽君 <i class=\"fa fa-user\"></i>但愿人长久\n"
    }
   ],
   "source": [
    "results = re.findall('<li.*?href=\"(.*?)\".*?singer=\"(.*?)\">(.*?)</a>', html, re.S)\n",
    "# 匹配\n",
    "print(results)\n",
    "print(type(results))\n",
    "for result in results:\n",
    "    print(result)\n",
    "    print(result[0], result[1], result[2])"
   ]
  },
  {
   "cell_type": "code",
   "execution_count": null,
   "metadata": {},
   "outputs": [],
   "source": [
    "## sub()\n",
    "使用`re.sub()`可以使用正则表达式匹配的方式来修改字符串。比如把一串文本中的所有数字去掉"
   ]
  },
  {
   "cell_type": "code",
   "execution_count": 6,
   "metadata": {},
   "outputs": [
    {
     "output_type": "stream",
     "name": "stdout",
     "text": "aKyroiRixLg\n"
    }
   ],
   "source": [
    "import re\n",
    " \n",
    "content = '54aK54yr5oiR54ix5L2g'\n",
    "content = re.sub('\\d+', '', content)\n",
    "print(content)"
   ]
  },
  {
   "cell_type": "code",
   "execution_count": 7,
   "metadata": {},
   "outputs": [
    {
     "output_type": "stream",
     "name": "stdout",
     "text": "<div id=\"songs-list\">\n    <h2 class=\"title\">经典老歌</h2>\n    <p class=\"introduction\">\n        经典老歌列表\n    </p>\n    <ul id=\"list\" class=\"list-group\">\n        <li data-view=\"2\">一路上有你</li>\n        <li data-view=\"7\">\n            沧海一声笑\n        </li>\n        <li data-view=\"4\" class=\"active\">\n            往事随风\n        </li>\n        <li data-view=\"6\">光辉岁月</li>\n        <li data-view=\"5\">记事本</li>\n        <li data-view=\"5\">\n            <i class=\"fa fa-user\"></i>但愿人长久\n        </li>\n    </ul>\n</div>\n一路上有你\n沧海一声笑\n往事随风\n光辉岁月\n记事本\n<i class=\"fa fa-user\"></i>但愿人长久\n"
    }
   ],
   "source": [
    "html = re.sub('<a.*?>|</a>', '', html)\n",
    "print(html)\n",
    "results = re.findall('<li.*?>(.*?)</li>', html, re.S)\n",
    "for result in results:\n",
    "    print(result.strip())"
   ]
  },
  {
   "cell_type": "markdown",
   "metadata": {},
   "source": [
    "## compile()\n",
    "+ 这个方法可以将正则字符串编译成正则表达式对象，以便在后面的匹配中复用\n",
    "+ compile()方法可以传入`re.S`等修饰符，这样在搜索的时候就不用再传了"
   ]
  },
  {
   "cell_type": "code",
   "execution_count": 9,
   "metadata": {},
   "outputs": [
    {
     "output_type": "stream",
     "name": "stdout",
     "text": "2016-12-15  2016-12-17  2016-12-22 \n"
    }
   ],
   "source": [
    "import re\n",
    " \n",
    "content1 = '2016-12-15 12:00'\n",
    "content2 = '2016-12-17 12:55'\n",
    "content3 = '2016-12-22 13:21'\n",
    "# pattern = re.compile('\\d{2}:\\d{2}')\n",
    "pattern = '\\d{2}:\\d{2}'\n",
    "result1 = re.sub(pattern, '', content1)\n",
    "result2 = re.sub(pattern, '', content2)\n",
    "result3 = re.sub(pattern, '', content3)\n",
    "print(result1, result2, result3)"
   ]
  }
 ]
}