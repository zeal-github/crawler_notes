{
 "nbformat": 4,
 "nbformat_minor": 2,
 "metadata": {
  "language_info": {
   "name": "python",
   "codemirror_mode": {
    "name": "ipython",
    "version": 3
   },
   "version": "3.7.0-final"
  },
  "orig_nbformat": 2,
  "file_extension": ".py",
  "mimetype": "text/x-python",
  "name": "python",
  "npconvert_exporter": "python",
  "pygments_lexer": "ipython3",
  "version": 3,
  "kernelspec": {
   "name": "python3",
   "display_name": "Python 3"
  }
 },
 "cells": [
  {
   "cell_type": "markdown",
   "metadata": {},
   "source": [
    "# 使用pyquery\n",
    "pyquery是一个类似lxml和Beautiful soup的解析器。可以用来提取xml和html的内容。\n",
    "大部分说pyquery有比较强大的css选择器。\n",
    "\n",
    "暂时不知道啥是css选择器。哎，果然要全部弄懂要从html学起阿\n",
    "\n",
    "官方文档：[http://pyquery.readthedocs.io]"
   ]
  },
  {
   "cell_type": "markdown",
   "metadata": {},
   "source": [
    "## 初始化\n",
    "+ 传入html文本初始化\n",
    "+ 传入url\n",
    "+ 传入文件名"
   ]
  },
  {
   "cell_type": "code",
   "execution_count": 4,
   "metadata": {},
   "outputs": [
    {
     "output_type": "stream",
     "name": "stdout",
     "text": "<li class=\"item-0\">first item</li>\n         <li class=\"item-1\"><a href=\"link2.html\">second item</a></li>\n         <li class=\"item-0 active\"><a href=\"link3.html\"><span class=\"bold\">third item</span></a></li>\n         <li class=\"item-1 active\"><a href=\"link4.html\">fourth item</a></li>\n         <li class=\"item-0\"><a href=\"link5.html\">fifth item</a></li>\n      \n\n<title>静觅丨崔庆才的个人博客</title>&#13;\n \n\n<title>静觅丨崔庆才的个人博客</title>&#13;\n \n\n"
    }
   ],
   "source": [
    "from pyquery import PyQuery as pq\n",
    "import requests\n",
    "\n",
    "html = '''\n",
    "<div>\n",
    "    <ul>\n",
    "         <li class=\"item-0\">first item</li>\n",
    "         <li class=\"item-1\"><a href=\"link2.html\">second item</a></li>\n",
    "         <li class=\"item-0 active\"><a href=\"link3.html\"><span class=\"bold\">third item</span></a></li>\n",
    "         <li class=\"item-1 active\"><a href=\"link4.html\">fourth item</a></li>\n",
    "         <li class=\"item-0\"><a href=\"link5.html\">fifth item</a></li>\n",
    "     </ul>\n",
    " </div>\n",
    "'''\n",
    "\n",
    "doc = pq(html) # 使用文本进行初始化\n",
    "print(doc('li'), '\\n') # 选择所有的li节点\n",
    "\n",
    "doc = pq(url='http://cuiqingcai.com') # 使用url进行初始化\n",
    "print(doc('title'), '\\n') # 选择title节点\n",
    "\n",
    "# 使用url等同于先请求网页然后传入响应的html内容进行初始化\n",
    "doc = pq(requests.get('http://cuiqingcai.com').text)\n",
    "print(doc('title'), '\\n')\n",
    "\n",
    "# 使用本地文件进行初始化 \n",
    "# doc = pq(filename='filename.html')"
   ]
  },
  {
   "cell_type": "markdown",
   "metadata": {},
   "source": [
    "## 基本CSS选择器"
   ]
  },
  {
   "cell_type": "code",
   "execution_count": 9,
   "metadata": {},
   "outputs": [
    {
     "output_type": "stream",
     "name": "stdout",
     "text": "<li class=\"item-0\">first item</li>\n         <li class=\"item-1\"><a href=\"link2.html\">second item</a></li>\n         <li class=\"item-0 active\"><a href=\"link3.html\"><span class=\"bold\">third item</span></a></li>\n         <li class=\"item-1 active\"><a href=\"link4.html\">fourth item</a></li>\n         <li class=\"item-0\"><a href=\"link5.html\">fifth item</a></li>\n     \n\n\n<class 'pyquery.pyquery.PyQuery'>\n"
    }
   ],
   "source": [
    "html = '''\n",
    "<div id=\"container\">\n",
    "    <ul class=\"list\">\n",
    "         <li class=\"item-0\">first item</li>\n",
    "         <li class=\"item-1\"><a href=\"link2.html\">second item</a></li>\n",
    "         <li class=\"item-0 active\"><a href=\"link3.html\"><span class=\"bold\">third item</span></a></li>\n",
    "         <li class=\"item-1 active\"><a href=\"link4.html\">fourth item</a></li>\n",
    "         <li class=\"item-0\"><a href=\"link5.html\">fifth item</a></li>\n",
    "     </ul>\n",
    " </div>\n",
    "'''\n",
    "doc = pq(html)\n",
    "print(doc('#container .list li')) # 选择id=container的节点-》选择class=list的节点-》选择所有名称为li节点\n",
    "print('\\n')\n",
    "print(type(doc('#container .list li'))) #依旧是PyQuery类型"
   ]
  },
  {
   "cell_type": "markdown",
   "metadata": {},
   "source": [
    "## 查找节点\n",
    "+ 直接用PyQuery('name')\n",
    "+ PyQuery.find('name') , 查找所有符合条件的节点\n",
    "+ PyQuery.children() / PyQuery.children('name') 查找子节点\n",
    "+ PyQuery.parent() / Pyquery.parent('name') 查找直接父节点\n",
    "+ PyQuery.parents() / PyQuery.parents('name') 查找所有祖先节点\n",
    "+ Pyquery.siblings() 查找兄弟节点"
   ]
  },
  {
   "cell_type": "code",
   "execution_count": 17,
   "metadata": {},
   "outputs": [
    {
     "output_type": "stream",
     "name": "stdout",
     "text": "<class 'pyquery.pyquery.PyQuery'> \n\n<ul class=\"list\">\n         <li class=\"item-0\">first item</li>\n         <li class=\"item-1\"><a href=\"link2.html\">second item</a></li>\n         <li class=\"item-0 active\"><a href=\"link3.html\"><span class=\"bold\">third item</span></a></li>\n         <li class=\"item-1 active\"><a href=\"link4.html\">fourth item</a></li>\n         <li class=\"item-0\"><a href=\"link5.html\">fifth item</a></li>\n     </ul>\n  \n\n<class 'pyquery.pyquery.PyQuery'> \n\n<li class=\"item-0\">first item</li>\n         <li class=\"item-1\"><a href=\"link2.html\">second item</a></li>\n         <li class=\"item-0 active\"><a href=\"link3.html\"><span class=\"bold\">third item</span></a></li>\n         <li class=\"item-1 active\"><a href=\"link4.html\">fourth item</a></li>\n         <li class=\"item-0\"><a href=\"link5.html\">fifth item</a></li>\n     \n<class 'pyquery.pyquery.PyQuery'> \n\n<li class=\"item-0\">first item</li>\n         <li class=\"item-1\"><a href=\"link2.html\">second item</a></li>\n         <li class=\"item-0 active\"><a href=\"link3.html\"><span class=\"bold\">third item</span></a></li>\n         <li class=\"item-1 active\"><a href=\"link4.html\">fourth item</a></li>\n         <li class=\"item-0\"><a href=\"link5.html\">fifth item</a></li>\n     \n<class 'pyquery.pyquery.PyQuery'> \n\n<li class=\"item-1\"><a href=\"link2.html\">second item</a></li>\n         <li class=\"item-1 active\"><a href=\"link4.html\">fourth item</a></li>\n         \n<class 'pyquery.pyquery.PyQuery'> \n\n<li class=\"item-0 active\"><a href=\"link3.html\"><span class=\"bold\">third item</span></a></li>\n         <li class=\"item-1 active\"><a href=\"link4.html\">fourth item</a></li>\n         \n"
    }
   ],
   "source": [
    "items = doc('.list') # 所有class=list的节点\n",
    "print(type(items), '\\n') # 依旧是PyQuery类型\n",
    "print(items, '\\n')\n",
    "\n",
    "lis = items.find('li') # 从节点中找到所有li节点\n",
    "# lis = items('li)\n",
    "print(type(lis), '\\n')\n",
    "print(lis)\n",
    "\n",
    "lis = items.children() # 返回items的所有直接子节点\n",
    "print(type(lis), '\\n')\n",
    "print(lis)\n",
    "\n",
    "lis = items.children('.item-1') # class 包含item-1的节点\n",
    "print(type(lis), '\\n')\n",
    "print(lis)\n",
    "\n",
    "lis = items.children('.active') # class 包含active的节点\n",
    "print(type(lis), '\\n')\n",
    "print(lis)"
   ]
  },
  {
   "cell_type": "code",
   "execution_count": 21,
   "metadata": {},
   "outputs": [
    {
     "output_type": "stream",
     "name": "stdout",
     "text": "<li class=\"item-0 active\"><a href=\"link3.html\"><span class=\"bold\">third item</span></a></li>\n          \n\n<li class=\"item-1\"><a href=\"link2.html\">second item</a></li>\n         <li class=\"item-0\">first item</li>\n         <li class=\"item-1 active\"><a href=\"link4.html\">fourth item</a></li>\n         <li class=\"item-0\"><a href=\"link5.html\">fifth item</a></li>\n     \n"
    }
   ],
   "source": [
    "li = doc('.list .item-0.active') # 选择class为list的节点内部class为item-0和active的节点\n",
    "print(li, '\\n')\n",
    "print(li.siblings()) # 兄弟节点"
   ]
  },
  {
   "cell_type": "markdown",
   "metadata": {},
   "source": [
    "## 遍历\n",
    "pyquery返回的对象都是PyQuery类型，并不像Beautiful Soup那样返回列表。<br>\n",
    "可以用`items()`方法遍历PyQuery对象"
   ]
  },
  {
   "cell_type": "code",
   "execution_count": 22,
   "metadata": {},
   "outputs": [
    {
     "output_type": "stream",
     "name": "stdout",
     "text": "<class 'generator'> \n\n<li class=\"item-0\">first item</li>\n          <class 'pyquery.pyquery.PyQuery'> \n\n<li class=\"item-1\"><a href=\"link2.html\">second item</a></li>\n          <class 'pyquery.pyquery.PyQuery'> \n\n<li class=\"item-0 active\"><a href=\"link3.html\"><span class=\"bold\">third item</span></a></li>\n          <class 'pyquery.pyquery.PyQuery'> \n\n<li class=\"item-1 active\"><a href=\"link4.html\">fourth item</a></li>\n          <class 'pyquery.pyquery.PyQuery'> \n\n<li class=\"item-0\"><a href=\"link5.html\">fifth item</a></li>\n      <class 'pyquery.pyquery.PyQuery'> \n\n"
    }
   ],
   "source": [
    "lis = doc('li').items()\n",
    "print(type(lis), '\\n')\n",
    "for li in lis:\n",
    "    print(li, type(li), '\\n')"
   ]
  },
  {
   "cell_type": "markdown",
   "metadata": {},
   "source": [
    "## 获取信息\n",
    "+ attr('name') 方法获取属性\n",
    "+ 直接用PyQuery.attr.name获取属性值\n",
    "+ text()方法获取内部文本，会返回一个字符串，用空格分开各个节点的文本内容。也就是text（）方法不需要遍历就可以获取，它将所有节点取文本之后合成一个字符串\n",
    "+ html()方法获取节点内部的html文本，会返回第一个节点内部的html内容"
   ]
  },
  {
   "cell_type": "code",
   "execution_count": 28,
   "metadata": {},
   "outputs": [
    {
     "output_type": "stream",
     "name": "stdout",
     "text": "<a href=\"link3.html\"><span class=\"bold\">third item</span></a> <class 'pyquery.pyquery.PyQuery'> \n\nlink3.html \n\nlink3.html \n\n<a href=\"link2.html\">second item</a><a href=\"link3.html\"><span class=\"bold\">third item</span></a><a href=\"link4.html\">fourth item</a><a href=\"link5.html\">fifth item</a> \n\nlink2.html\nlink2.html \n\nlink2.html\nlink3.html\nlink4.html\nlink5.html\n"
    }
   ],
   "source": [
    "a = doc('.item-0.active a')\n",
    "print(a, type(a), '\\n')\n",
    "print(a.attr('href'), '\\n') # 获取a节点里href属性的值\n",
    "print(a.attr.href, '\\n')\n",
    "\n",
    "a = doc('a') # 返回多个节点\n",
    "print(a, '\\n')\n",
    "print(a.attr('href')) # 当节点有多个的时候，attr方法只会得到第一个节点的属性\n",
    "print(a.attr.href, '\\n')\n",
    "\n",
    "for item in a.items():\n",
    "    print(item.attr('href')) # 当返回的节点有多个的时候，要遍历输出"
   ]
  },
  {
   "cell_type": "code",
   "execution_count": 34,
   "metadata": {},
   "outputs": [
    {
     "output_type": "stream",
     "name": "stdout",
     "text": "<a href=\"link3.html\"><span class=\"bold\">third item</span></a>\nthird item \n\n<li class=\"item-0 active\"><a href=\"link3.html\"><span class=\"bold\">third item</span></a></li>\n         \n<a href=\"link3.html\"><span class=\"bold\">third item</span></a>\nthird item\n"
    }
   ],
   "source": [
    "a = doc('.item-0.active a')\n",
    "print(a)\n",
    "print(a.text(), '\\n')\n",
    "\n",
    "li = doc('.item-0.active')\n",
    "print(li)\n",
    "print(li.html()) # html 会返回第一个节点内部的HTML文本\n",
    "print(li.text()) # 会返回一个字符串，用空格分开各个节点的文本内容。也就是text（）方法不需要遍历就可以获取，它将所有节点取文本之后合成一个字符串\n"
   ]
  },
  {
   "cell_type": "markdown",
   "metadata": {},
   "source": [
    "## 节点操作\n",
    "pyquery提供了一系列方法来对节点进行动态修改，比如为某个节点添加一个class，移除某个节点等，这些操作有时候会为提取信息带来极大的便利\n",
    "举例：\n",
    "+ addClass() 添加节点的class属性\n",
    "+ removeClass() 去除节点的class属性\n",
    "+ attr(name, value)修改节点属性值\n",
    "+ text('text') 修改节点文本内容\n",
    "+ text('html') 修改节点的html内容\n",
    "+ remove() 移除节点"
   ]
  },
  {
   "cell_type": "code",
   "execution_count": 35,
   "metadata": {},
   "outputs": [
    {
     "output_type": "stream",
     "name": "stdout",
     "text": "<li class=\"item-0 active\"><a href=\"link3.html\"><span class=\"bold\">third item</span></a></li>\n             \n<li class=\"item-0\"><a href=\"link3.html\"><span class=\"bold\">third item</span></a></li>\n             \n<li class=\"item-0 active\"><a href=\"link3.html\"><span class=\"bold\">third item</span></a></li>\n             \n"
    }
   ],
   "source": [
    "html = '''\n",
    "<div class=\"wrap\">\n",
    "    <div id=\"container\">\n",
    "        <ul class=\"list\">\n",
    "             <li class=\"item-0\">first item</li>\n",
    "             <li class=\"item-1\"><a href=\"link2.html\">second item</a></li>\n",
    "             <li class=\"item-0 active\"><a href=\"link3.html\"><span class=\"bold\">third item</span></a></li>\n",
    "             <li class=\"item-1 active\"><a href=\"link4.html\">fourth item</a></li>\n",
    "             <li class=\"item-0\"><a href=\"link5.html\">fifth item</a></li>\n",
    "         </ul>\n",
    "     </div>\n",
    " </div>\n",
    "'''\n",
    "from pyquery import PyQuery as pq\n",
    "doc = pq(html)\n",
    "li = doc('.item-0.active')\n",
    "print(li)\n",
    "li.removeClass('active')\n",
    "print(li)\n",
    "li.addClass('active')\n",
    "print(li)"
   ]
  },
  {
   "cell_type": "code",
   "execution_count": 36,
   "metadata": {},
   "outputs": [
    {
     "output_type": "stream",
     "name": "stdout",
     "text": "<li class=\"item-0 active\"><a href=\"link3.html\"><span class=\"bold\">third item</span></a></li>\n             \n<li class=\"item-0 active\" name=\"link\"><a href=\"link3.html\"><span class=\"bold\">third item</span></a></li>\n             \n<li class=\"item-0 active\" name=\"link\">changed item</li>\n             \n<li class=\"item-0 active\" name=\"link\"><span>changed item</span></li>\n             \n"
    }
   ],
   "source": [
    "li = doc('.item-0.active')\n",
    "print(li)\n",
    "li.attr('name', 'link')\n",
    "print(li)\n",
    "li.text('changed item')\n",
    "print(li)\n",
    "li.html('<span>changed item</span>')\n",
    "print(li)"
   ]
  },
  {
   "cell_type": "code",
   "execution_count": 38,
   "metadata": {},
   "outputs": [
    {
     "output_type": "stream",
     "name": "stdout",
     "text": "Hello, World\nThis is a paragraph.\n\n\nHello, World\n"
    }
   ],
   "source": [
    "html = '''\n",
    "<div class=\"wrap\">\n",
    "    Hello, World\n",
    "    <p>This is a paragraph.</p>\n",
    " </div>\n",
    "'''\n",
    "from pyquery import PyQuery as pq\n",
    "doc = pq(html)\n",
    "wrap = doc('.wrap')\n",
    "print(wrap.text())\n",
    "print('\\n')\n",
    "\n",
    "\n",
    "wrap.find('p').remove() # 删除wrap节点里的p节点\n",
    "print(wrap.text())"
   ]
  },
  {
   "cell_type": "markdown",
   "metadata": {},
   "source": [
    "## 伪类选择器\n",
    "CSS选择器之所以强大，还有一个很重要的原因，那就是它支持多种多样的伪类选择器，例如选择第一个节点、最后一个节点、奇偶数节点、包含某一文本的节点等"
   ]
  },
  {
   "cell_type": "code",
   "execution_count": 39,
   "metadata": {},
   "outputs": [
    {
     "output_type": "stream",
     "name": "stdout",
     "text": "<li class=\"item-0\">first item</li>\n             \n<li class=\"item-0\"><a href=\"link5.html\">fifth item</a></li>\n         \n<li class=\"item-1\"><a href=\"link2.html\">second item</a></li>\n             \n<li class=\"item-1 active\"><a href=\"link4.html\">fourth item</a></li>\n             <li class=\"item-0\"><a href=\"link5.html\">fifth item</a></li>\n         \n<li class=\"item-1\"><a href=\"link2.html\">second item</a></li>\n             <li class=\"item-1 active\"><a href=\"link4.html\">fourth item</a></li>\n             \n<li class=\"item-1\"><a href=\"link2.html\">second item</a></li>\n             \n"
    }
   ],
   "source": [
    "html = '''\n",
    "<div class=\"wrap\">\n",
    "    <div id=\"container\">\n",
    "        <ul class=\"list\">\n",
    "             <li class=\"item-0\">first item</li>\n",
    "             <li class=\"item-1\"><a href=\"link2.html\">second item</a></li>\n",
    "             <li class=\"item-0 active\"><a href=\"link3.html\"><span class=\"bold\">third item</span></a></li>\n",
    "             <li class=\"item-1 active\"><a href=\"link4.html\">fourth item</a></li>\n",
    "             <li class=\"item-0\"><a href=\"link5.html\">fifth item</a></li>\n",
    "         </ul>\n",
    "     </div>\n",
    " </div>\n",
    "'''\n",
    "from pyquery import PyQuery as pq\n",
    "doc = pq(html)\n",
    "li = doc('li:first-child') # 选择第一个li节点\n",
    "print(li)\n",
    "li = doc('li:last-child') # 选择最后一个li节点\n",
    "print(li)\n",
    "li = doc('li:nth-child(2)') # 选择第二个li节点\n",
    "print(li)\n",
    "li = doc('li:gt(2)') # 选择第三个li之后的li节点\n",
    "print(li)\n",
    "li = doc('li:nth-child(2n)')  # 选择偶数位置的li节点\n",
    "print(li)\n",
    "li = doc('li:contains(second)') # 选择包含second文本的li节点\n",
    "print(li)"
   ]
  }
 ]
}